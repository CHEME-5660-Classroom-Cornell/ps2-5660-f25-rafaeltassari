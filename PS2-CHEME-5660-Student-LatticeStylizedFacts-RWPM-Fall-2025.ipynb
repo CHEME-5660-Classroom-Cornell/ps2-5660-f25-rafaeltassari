{
 "cells": [
  {
   "cell_type": "markdown",
   "id": "57dd9915-cbd9-4908-aa0a-1d2cee1b44b0",
   "metadata": {
    "tags": []
   },
   "source": [
    "# PS2: Binomial Lattice Simulation of Stylized Facts\n",
    "In this problem set, you will explore by simulation whether a simple binomial lattice model can replicate stylized facts of equity returns. We've derived the binomial lattice model in class, and our analysis suggested that it can replicate some, but not all, of the stylized facts of equity returns.\n",
    "\n",
    "> __Learning Objectives:__\n",
    ">\n",
    "> * **Parameter Estimation from Historical Data**: In this task, estimate binomial lattice parameters ($u$, $d$, $p$) from real market data by analyzing S&P 500 firm growth rates and implementing the real-world probability measure estimation algorithm.\n",
    "> * **Lattice Model Implementation and Validation**: Next, we'll build and populate binomial price trees using estimated parameters, then evaluate model performance by comparing simulated price paths with actual market data using confidence intervals and functional success tests.\n",
    "> * **Stylized Facts Analysis**: Lastly, we'll investigate whether binomial lattice models can replicate key empirical features of financial returns by testing autocorrelation properties, examining growth rate distributions, and applying statistical tests like Anderson-Darling to assess normality assumptions.\n",
    "\n",
    "\n",
    "Let's get started!\n",
    "___"
   ]
  },
  {
   "cell_type": "markdown",
   "id": "7abe30da-5563-492e-82ea-892c472683eb",
   "metadata": {
    "tags": []
   },
   "source": [
    "## Setup, Data, and Prerequisites\n",
    "First, we set up the computational environment by including the `Include.jl` file and loading any needed resources.\n",
    "\n",
    ">__Include:__ The [`include(...)` command](https://docs.julialang.org/en/v1/base/base/#include) evaluates the contents of the input source file, `Include.jl`, in the notebook's global scope. The `Include.jl` file sets paths, loads required external packages, etc. For additional information on functions and types used in this material, see the [Julia programming language documentation](https://docs.julialang.org/en/v1/). \n",
    "\n",
    "Let's set up our code environment:"
   ]
  },
  {
   "cell_type": "code",
   "execution_count": 1,
   "id": "44c62894-3bb8-4fe1-b020-d17d2ca28d74",
   "metadata": {
    "tags": []
   },
   "outputs": [],
   "source": [
    "include(joinpath(@__DIR__, \"Include.jl\")); # include the Include.jl file"
   ]
  },
  {
   "cell_type": "markdown",
   "id": "6ae2088b",
   "metadata": {},
   "source": [
    "For additional information on functions and types used in this material, see the [Julia programming language documentation](https://docs.julialang.org/en/v1/) and the [VLQuantitativeFinancePackage.jl documentation](https://github.com/varnerlab/VLQuantitativeFinancePackage.jl). "
   ]
  },
  {
   "cell_type": "markdown",
   "id": "2b146331",
   "metadata": {},
   "source": [
    "### Data\n",
    "We gathered daily open-high-low-close (OHLC) data for each firm in the [S&P500](https://en.wikipedia.org/wiki/S%26P_500) from `01-03-2014` until `12-31-2024`, along with data for a few exchange-traded funds and volatility products during that time period. \n",
    "\n",
    "Let's load the `original_dataset::DataFrame` by calling [the `MyTrainingMarketDataSet()` function](https://varnerlab.github.io/VLQuantitativeFinancePackage.jl/dev/data/#VLQuantitativeFinancePackage.MyTrainingMarketDataSet) and remove firms that do not have the maximum number of trading days. The cleaned dataset $\\mathcal{D}$ will be stored in the `dataset` variable."
   ]
  },
  {
   "cell_type": "code",
   "execution_count": 2,
   "id": "e79f32c4",
   "metadata": {},
   "outputs": [],
   "source": [
    "original_dataset = MyTrainingMarketDataSet() |> x-> x[\"dataset\"];"
   ]
  },
  {
   "cell_type": "markdown",
   "id": "8064e7b0",
   "metadata": {},
   "source": [
    "Not all tickers in our dataset have the maximum number of trading days for various reasons, e.g., acquisition or delisting events. Let's collect only those tickers with the maximum number of trading days.\n",
    "\n",
    "First, let's compute the number of records for a firm that we know has the maximum value, e.g., `AAPL`, and save that value in the `maximum_number_trading_days::Int64` variable:"
   ]
  },
  {
   "cell_type": "code",
   "execution_count": 3,
   "id": "94af0e1f",
   "metadata": {},
   "outputs": [
    {
     "data": {
      "text/plain": [
       "2767"
      ]
     },
     "execution_count": 3,
     "metadata": {},
     "output_type": "execute_result"
    }
   ],
   "source": [
    "maximum_number_trading_days = original_dataset[\"AAPL\"] |> nrow # nrow returns the number of rows (check out: DataFrames.jl)"
   ]
  },
  {
   "cell_type": "markdown",
   "id": "3bb2adcc",
   "metadata": {},
   "source": [
    "Now, let's iterate through our data and collect only tickers with `maximum_number_trading_days` records. We'll save that data in the `dataset::Dict{String,DataFrame}` variable:"
   ]
  },
  {
   "cell_type": "code",
   "execution_count": 4,
   "id": "40c91e91",
   "metadata": {},
   "outputs": [],
   "source": [
    "dataset = let\n",
    "\n",
    "    # initialize -\n",
    "    dataset = Dict{String, DataFrame}();\n",
    "\n",
    "    # iterate through the dictionary; we can't guarantee a particular order\n",
    "    for (ticker, data) ∈ original_dataset  # we get each (K, V) pair!\n",
    "        if (nrow(data) == maximum_number_trading_days) # check if this firm has the maximum number of trading days\n",
    "            dataset[ticker] = data;\n",
    "        end\n",
    "    end\n",
    "    dataset; # return\n",
    "end;"
   ]
  },
  {
   "cell_type": "markdown",
   "id": "420fa03d",
   "metadata": {},
   "source": [
    "How many firms do we have with the full number of trading days? Let's use [the `length(...)` method](https://docs.julialang.org/en/v1/base/collections/#Base.length) — notice this works for dictionaries, in addition to arrays, sets, and other collections."
   ]
  },
  {
   "cell_type": "code",
   "execution_count": 5,
   "id": "5eb683ba",
   "metadata": {},
   "outputs": [
    {
     "data": {
      "text/plain": [
       "424"
      ]
     },
     "execution_count": 5,
     "metadata": {},
     "output_type": "execute_result"
    }
   ],
   "source": [
    "length(dataset) # tells us how many keys are in the dictionary (i.e., how many firms in our dataset)"
   ]
  },
  {
   "cell_type": "markdown",
   "id": "51137681",
   "metadata": {},
   "source": [
    "Finally, let's get a list of the firms in our cleaned dataset and sort them alphabetically. We store the sorted firm ticker symbols in the `list_of_tickers::Array{String,1}` variable."
   ]
  },
  {
   "cell_type": "code",
   "execution_count": 16,
   "id": "70d2fe4e",
   "metadata": {},
   "outputs": [],
   "source": [
    "list_of_tickers = keys(dataset) |> collect |> sort; # list of firm \"ticker\" symbols in alphabetical order"
   ]
  },
  {
   "cell_type": "markdown",
   "id": "4f554aed-3afc-4d8b-b902-a8f88ac95150",
   "metadata": {},
   "source": [
    "### Constants\n",
    "Finally, let's set some constants we'll use later in this notebook. The comments describe the constants, their units, and permissible values, etc."
   ]
  },
  {
   "cell_type": "code",
   "execution_count": 6,
   "id": "0bcc642b-e5e5-4188-bb63-9eddc59350b2",
   "metadata": {},
   "outputs": [],
   "source": [
    "TSIM = 42; # number of trading days to simulate\n",
    "Δt = (1.0/252.0); # step size: 1 trading day in units of years"
   ]
  },
  {
   "cell_type": "markdown",
   "id": "72c09619",
   "metadata": {},
   "source": [
    "___"
   ]
  },
  {
   "cell_type": "markdown",
   "id": "07824201-8993-4dfa-aeb5-7bedd874a6d2",
   "metadata": {
    "tags": []
   },
   "source": [
    "## Task 1: Estimate lattice parameters from historical data\n",
    "Now it's time to utilize historical data to compute a share price prediction. To create a binomial lattice model for future share prices, we must estimate three critical parameters: $p$, $u$, and $d$.\n",
    "\n",
    "> __Parameter Definitions__\n",
    ">\n",
    ">* The $p$ parameter represents the probability of a share price increase or an `up` move between two consecutive periods $j\\rightarrow{j+1}$. Since a binary lattice model only allows `up` and `down` moves, the probability of a `down` move is $1-p$.\n",
    ">* The $u$ parameter represents the magnitude of an `up` move. If $S_{j}$ denotes the share price in period $j$, and $S_{j+1}$ is the share price in the next period, then an `up` move results in $S_{j+1} = u\\cdot{S}_{j}$.\n",
    ">* The $d$ parameter represents the magnitude of a `down` move. If $S_{j}$ denotes the share price in period $j$, and $S_{j+1}$ is the share price in the next period, then a `down` move results in $S_{j+1} = d\\cdot{S}_{j}$.\n",
    "\n",
    "To start, let's select a firm from the dataset to explore."
   ]
  },
  {
   "cell_type": "code",
   "execution_count": 15,
   "id": "3d5cb68a-f29a-404a-9fad-76835711f664",
   "metadata": {},
   "outputs": [],
   "source": [
    "# random_firm_ticker = rand(list_of_tickers);\n",
    "random_firm_ticker = \"CVS\" # TODO: You change this to any ticker in the list_of_tickers!\n",
    "random_firm_index = findfirst(x-> x == random_firm_ticker, list_of_tickers);\n",
    "random_firm_data = dataset[random_firm_ticker];"
   ]
  },
  {
   "cell_type": "markdown",
   "id": "37d04dad-363d-440f-9a2e-cb06aa47a5f1",
   "metadata": {},
   "source": [
    "### Estimate the u, d, and probability p parameters from the data\n",
    "Let's estimate the up $u$ and down $d$ factors and the probability $p$ from historical data.\n",
    "\n",
    "__Initialize__: Given the growth rate sequence $\\{\\mu_{2},\\mu_{3},\\dots,\\mu_{T}\\}$ for firm $(i)$ (we omit the superscript $i$ for simplicity) and a time step $\\Delta{t} > 0$ (units: years), initialize the up factors collection $U = \\emptyset$ and down factors collection $D = \\emptyset$.\n",
    "\n",
    "1. For $t = 2,3,\\dots,T$, __do__:\n",
    "    - If $\\mu_{t} > 0$, then update $U \\leftarrow U \\cup \\{e^{\\mu_{t}\\Delta{t}}\\}$, where $U$ is a collection of up factors.\n",
    "    - If $\\mu_{t} < 0$, then update $D \\leftarrow D \\cup \\{e^{\\mu_{t}\\Delta{t}}\\}$, where $D$ is a collection of down factors.\n",
    "    - If $\\mu_{t} = 0$, skip (no price change).\n",
    "2. Compute the up factor $u$ as the mean of the up factors collection $U$: $u = \\frac{1}{|U|} \\sum_{v \\in U} v$.\n",
    "3. Compute the down factor $d$ as the mean of the down factors collection $D$: $d = \\frac{1}{|D|} \\sum_{v \\in D} v$.\n",
    "4. Compute the probability $p$ as the fraction of up movements: $p = \\frac{|U|}{|U| + |D|}$.\n",
    "\n",
    "We use daily data; thus, the natural time frame between $S_{j-1}$ and $S_{j}$ is a single day. However, it is more convenient to use an annualized value for the $\\mu$ parameter; thus, we let $\\Delta{t} = 1/252$, i.e., the fraction of a year that corresponds to a single trading day.\n",
    "\n",
    "The [`log_growth_matrix(...)` method](https://varnerlab.github.io/VLQuantitativeFinancePackage.jl/dev/equity/#VLQuantitativeFinancePackage.log_growth_matrix) takes the cleaned dataset $\\mathcal{D}$, which contains $T$ days of data for each firm, a list of firms $\\mathcal{L}$, and computes the growth rate values for each firm as a function of time. \n",
    "\n",
    "The data is returned as a $(T - 1)\\times\\dim\\mathcal{L}$ array (time on the rows, firm $i$ on the columns). We store the data in the `log_growth_array::Array{Float64,1}` variable:"
   ]
  },
  {
   "cell_type": "code",
   "execution_count": 17,
   "id": "b7a3b8e5-6927-4469-a7c4-5e95a5d8c5dd",
   "metadata": {},
   "outputs": [],
   "source": [
    "log_growth_array = let\n",
    "\n",
    "    # initialize -\n",
    "    log_growth_array = nothing;\n",
    "\n",
    "    # TODO: call the log_growth_matrix(...) function here to compute the log growth array for the randomly selected firm\n",
    "    # TODO: the function takes two inputs: (1) the dataset dictionary, and (2) the randomly selected firm ticker symbol\n",
    "    # TODO: uncomment the line below and re-run this cell to compute the log growth array\n",
    "    log_growth_array = log_growth_matrix(dataset, random_firm_ticker); \n",
    "\n",
    "    log_growth_array; # return\n",
    "end;"
   ]
  },
  {
   "cell_type": "markdown",
   "id": "6526af85",
   "metadata": {},
   "source": [
    "### Visualize the log growth rate distribution\n",
    "Let's visualize the distribution of log growth rates for our randomly selected firm to understand the data before estimating the lattice parameters."
   ]
  },
  {
   "cell_type": "code",
   "execution_count": 18,
   "id": "859b5d3e",
   "metadata": {},
   "outputs": [
    {
     "data": {
      "image/png": "[encoded data removed]"
     },
     "execution_count": 18,
     "metadata": {},
     "output_type": "execute_result"
    }
   ],
   "source": [
    "let\n",
    "    density(log_growth_array, label=\"Observed $(random_firm_ticker)\", lw=3, c=:red)\n",
    "    xlabel!(\"Log Growth Rate (1/years)\", fontsize=18)\n",
    "    ylabel!(\"Density\", fontsize=18)\n",
    "    plot!(bg=\"gray95\", background_color_outside=\"white\", framestyle = :box, fg_legend = :transparent);\n",
    "end"
   ]
  },
  {
   "cell_type": "markdown",
   "id": "f819175b",
   "metadata": {},
   "source": [
    "### Is the observed distribution approximately normal? \n",
    "Let's use the Anderson-Darling test to quantify how well the log growth rate distribution fits a normal distribution.\n",
    "\n",
    "> __Anderson–Darling test:__ The Anderson–Darling (AD) test is a statistical test of whether a given sample of data is drawn from a specified probability distribution. It is a type of goodness-of-fit test that compares the empirical cumulative distribution function of the sample data to the cumulative distribution function of the specified distribution. The AD test is particularly sensitive to differences in the tails of the distributions, making it useful for detecting deviations from the assumed distribution in those regions.\n",
    "\n",
    "> __Null hypothesis:__ The Anderson–Darling test examines the null hypothesis that the data in vector $x$ come from the distribution $d$ against the alternative hypothesis that the sample is not drawn from $d$. This test reports a p-value, the probability that, assuming the null hypothesis is true (your data really are i.i.d. from $d$), the AD test statistic would be at least as extreme as the one computed from your data. \n",
    "\n",
    "So, let's run the test on the log growth rate data for our randomly selected firm."
   ]
  },
  {
   "cell_type": "code",
   "execution_count": 19,
   "id": "78e448c8",
   "metadata": {},
   "outputs": [
    {
     "data": {
      "text/plain": [
       "One sample Anderson-Darling test\n",
       "--------------------------------\n",
       "Population details:\n",
       "    parameter of interest:   not implemented yet\n",
       "    value under h_0:         NaN\n",
       "    point estimate:          NaN\n",
       "\n",
       "Test summary:\n",
       "    outcome with 95% confidence: reject h_0\n",
       "    one-sided p-value:           <1e-06\n",
       "\n",
       "Details:\n",
       "    number of observations:   2766\n",
       "    sample mean:              -0.0417848525300174\n",
       "    sample SD:                3.8601626476941036\n",
       "    A² statistic:             42.228941843519124\n"
      ]
     },
     "execution_count": 19,
     "metadata": {},
     "output_type": "execute_result"
    }
   ],
   "source": [
    "let\n",
    "\n",
    "    # initialize -\n",
    "    μ = log_growth_array; # get the log growth array for the randomly selected firm\n",
    "    d = fit_mle(Normal, μ); # fit the distribution using maximum likelihood estimation\n",
    "\n",
    "    # TODO: Uncomment the line below to perform the Anderson-Darling test\n",
    "    # TODO: reject the null hypothesis => NOT from a normal distribution\n",
    "    # TODO: A^2 big => data CDF does not fit theoretical CDF well\n",
    "    ad_test_normal = HypothesisTests.OneSampleADTest(μ, d);\n",
    "end"
   ]
  },
  {
   "cell_type": "markdown",
   "id": "da604142",
   "metadata": {},
   "source": [
    "Is the Anderson-Darling result consistent with our expectations: Is the observed growth rate normally distributed?"
   ]
  },
  {
   "cell_type": "code",
   "execution_count": 20,
   "id": "03e070b8",
   "metadata": {},
   "outputs": [],
   "source": [
    "is_observed_growth_rate_distribution_normal = false; # set to true if normal, false otherwise"
   ]
  },
  {
   "cell_type": "markdown",
   "id": "c022f13d-3129-4d7a-8534-594d1101cc83",
   "metadata": {
    "tags": []
   },
   "source": [
    "### Compute binomial model parameters\n",
    "Using the `log_growth_array::Array{Float64,1}`, we compute the expected magnitude of an up move $\\bar{u}$, the expected magnitude of a down move $\\bar{d}$, and the estimated probability $\\bar{p}$ of an up move by passing the return data to [a `RealWorldBinomialProbabilityMeasure` instance](https://varnerlab.github.io/VLQuantitativeFinancePackage.jl/dev/equity/#VLQuantitativeFinancePackage.RealWorldBinomialProbabilityMeasure), which returns the $(u,d,p)$ tuple.\n",
    "\n",
    "> __Syntax sugar__: Behind the scenes, this call points to a private function that computes $\\bar{u}$, $\\bar{d}$, and $\\bar{p}$ by analyzing the growth rate time series data in the `log_growth_array::Array{Float64,1}` variable. Although it appears we are using a type as a function name, we are actually invoking a callable constructor—this is a useful Julia feature!\n",
    "\n",
    "What values did we obtain for our randomly selected firm?"
   ]
  },
  {
   "cell_type": "code",
   "execution_count": 21,
   "id": "af81411e-eea6-4b89-b327-7b4bdc681dc1",
   "metadata": {
    "tags": []
   },
   "outputs": [],
   "source": [
    "(ū,d̄,p̄) = let\n",
    "\n",
    "    # initialize -\n",
    "    u = nothing; \n",
    "    d = nothing; \n",
    "    p = nothing; \n",
    "\n",
    "    # TODO: Uncomment the line below to compute the RWPM parameters for the randomly selected firm\n",
    "    (u,d,p) = (RealWorldBinomialProbabilityMeasure())(log_growth_array; Δt = Δt)\n",
    "    \n",
    "    (u,d,p); # return\n",
    "end;"
   ]
  },
  {
   "cell_type": "markdown",
   "id": "bc35e176",
   "metadata": {},
   "source": [
    "Make a table for the binomial lattice parameters:"
   ]
  },
  {
   "cell_type": "code",
   "execution_count": 32,
   "id": "82ca3cf5",
   "metadata": {},
   "outputs": [
    {
     "name": "stdout",
     "output_type": "stream",
     "text": [
      " -------- ---------- ------------ -------------\n",
      " \u001b[1m ticker \u001b[0m \u001b[1m upfactor \u001b[0m \u001b[1m downfactor \u001b[0m \u001b[1m probability \u001b[0m\n",
      " \u001b[90m String \u001b[0m \u001b[90m  Float64 \u001b[0m \u001b[90m    Float64 \u001b[0m \u001b[90m     Float64 \u001b[0m\n",
      " -------- ---------- ------------ -------------\n",
      "     CVS    1.01001     0.989445      0.510846\n",
      " -------- ---------- ------------ -------------\n"
     ]
    }
   ],
   "source": [
    "let\n",
    "\n",
    "    # initialize -\n",
    "    df = DataFrame();\n",
    "\n",
    "    row_df = (\n",
    "        ticker = random_firm_ticker,\n",
    "        upfactor = ū,\n",
    "        downfactor = d̄,\n",
    "        probability = p̄,\n",
    "    );\n",
    "    push!(df, row_df);\n",
    "\n",
    "      # display the table -\n",
    "    pretty_table(df, backend = Val(:text),\n",
    "         tf = tf_compact);    \n",
    "    \n",
    "end"
   ]
  },
  {
   "cell_type": "markdown",
   "id": "c9893e7e-fa9d-4b83-ba60-49ffab890d7a",
   "metadata": {
    "tags": []
   },
   "source": [
    "### Build binomial lattice model using historical parameters\n",
    "Let's construct an instance of [the `MyBinomialEquityPriceTree` type](https://varnerlab.github.io/VLQuantitativeFinancePackage.jl/dev/equity/#VLQuantitativeFinancePackage.MyBinomialEquityPriceTree) using the estimated values for the parameters ($\\bar{u}$, $\\bar{d}$, $\\bar{p}$) from above. \n",
    "\n",
    "This enables us to calculate the prices and probabilities in the tree. We store the populated model in the variable `random_test_model` for future use.\n",
    "\n",
    "First, specify the `start_index::Int64` as the trading day index in the dataset, which will serve as the tree's starting point or `L = 0`. For reproducibility, let's hard-code this value as `start_index = 1187`, which corresponds to the trading day `2018-09-19` for our dataset."
   ]
  },
  {
   "cell_type": "code",
   "execution_count": 33,
   "id": "ebe52580-48da-4513-a5fb-98ed15e7b70c",
   "metadata": {
    "tags": []
   },
   "outputs": [
    {
     "name": "stdout",
     "output_type": "stream",
     "text": [
      "Visualize Firm-103 between trading days (1187 -> 1229)\n"
     ]
    }
   ],
   "source": [
    "start_index = 1187; # DO NOT CHANGE hardcoded start-time for reproducibility\n",
    "stop_index = start_index + TSIM # TSIM defines the number of trading days to simulate\n",
    "println(\"Visualize Firm-$(random_firm_index) between trading days ($(start_index) -> $(stop_index))\")"
   ]
  },
  {
   "cell_type": "markdown",
   "id": "51539c27",
   "metadata": {},
   "source": [
    "Next, let's build and populate the binomial lattice model using the estimated parameters and the initial share price $S_{0}$, which we set as the volume-weighted average price (VWAP) on the `start_index` trading day.\n",
    "\n",
    "We save the populated model in the `random_test_model::MyBinomialEquityPriceTree` variable:"
   ]
  },
  {
   "cell_type": "code",
   "execution_count": 35,
   "id": "d62e2a59-37db-4e59-9988-f5ec2e8c504a",
   "metadata": {
    "tags": []
   },
   "outputs": [],
   "source": [
    "random_test_model = let\n",
    "\n",
    "    # initialize -\n",
    "    model = nothing;\n",
    "    Sₒ = random_firm_data[start_index, :volume_weighted_average_price]; # set the initial share price\n",
    "    \n",
    "    \n",
    "    # TODO: Uncomment the line below and re-run this cell to build and populate the binomial equity price tree model\n",
    "    # TODO: using the (ū, d̄, p̄) values computed above (real-world parameters)\n",
    "    model = build(MyBinomialEquityPriceTree, (\n",
    "        u = ū, d = d̄, p = p̄)) |> (model -> populate(model, Sₒ = Sₒ, h = TSIM));\n",
    "    \n",
    "    \n",
    "    model; # return\n",
    "end;"
   ]
  },
  {
   "cell_type": "markdown",
   "id": "0ad77528",
   "metadata": {},
   "source": [
    "What's in the `random_test_model::MyBinomialEquityPriceTree` instance?"
   ]
  },
  {
   "cell_type": "code",
   "execution_count": 36,
   "id": "502f8cae",
   "metadata": {},
   "outputs": [
    {
     "data": {
      "text/plain": [
       "(:u, :d, :p, :μ, :T, :connectivity, :levels, :ΔT, :data)"
      ]
     },
     "execution_count": 36,
     "metadata": {},
     "output_type": "execute_result"
    }
   ],
   "source": [
    "typeof(random_test_model) |> T-> fieldnames(T)"
   ]
  },
  {
   "cell_type": "markdown",
   "id": "e44c9a7c",
   "metadata": {},
   "source": [
    "You can check out the fields using the dot syntax, for example: let's look at the data:"
   ]
  },
  {
   "cell_type": "code",
   "execution_count": 37,
   "id": "afeb9d19",
   "metadata": {},
   "outputs": [
    {
     "data": {
      "text/plain": [
       "Dict{Int64, MyBiomialLatticeEquityNodeModel} with 946 entries:\n",
       "  719 => MyBiomialLatticeEquityNodeModel(82.54, 0.103513, nothing, nothing)\n",
       "  699 => MyBiomialLatticeEquityNodeModel(57.6046, 5.3737e-8, nothing, nothing)\n",
       "  831 => MyBiomialLatticeEquityNodeModel(94.2569, 0.00307795, nothing, nothing)\n",
       "  319 => MyBiomialLatticeEquityNodeModel(68.1752, 0.00185929, nothing, nothing)\n",
       "  687 => MyBiomialLatticeEquityNodeModel(73.734, 0.0705342, nothing, nothing)\n",
       "  185 => MyBiomialLatticeEquityNodeModel(71.1775, 0.00935664, nothing, nothing)\n",
       "  823 => MyBiomialLatticeEquityNodeModel(111.119, 1.86133e-8, nothing, nothing)\n",
       "  420 => MyBiomialLatticeEquityNodeModel(78.6323, 0.148464, nothing, nothing)\n",
       "  525 => MyBiomialLatticeEquityNodeModel(59.5066, 1.19662e-7, nothing, nothing)\n",
       "  365 => MyBiomialLatticeEquityNodeModel(77.0813, 0.13696, nothing, nothing)\n",
       "  638 => MyBiomialLatticeEquityNodeModel(95.3865, 0.00102594, nothing, nothing)\n",
       "  263 => MyBiomialLatticeEquityNodeModel(80.4235, 0.160178, nothing, nothing)\n",
       "  422 => MyBiomialLatticeEquityNodeModel(75.4627, 0.103227, nothing, nothing)\n",
       "  242 => MyBiomialLatticeEquityNodeModel(78.0051, 0.163767, nothing, nothing)\n",
       "  183 => MyBiomialLatticeEquityNodeModel(74.1671, 0.0619097, nothing, nothing)\n",
       "  551 => MyBiomialLatticeEquityNodeModel(67.998, 0.0047838, nothing, nothing)\n",
       "  224 => MyBiomialLatticeEquityNodeModel(72.6097, 0.0309288, nothing, nothing)\n",
       "  694 => MyBiomialLatticeEquityNodeModel(63.8452, 0.000282925, nothing, nothing)\n",
       "  692 => MyBiomialLatticeEquityNodeModel(66.5268, 0.00259202, nothing, nothing)\n",
       "  177 => MyBiomialLatticeEquityNodeModel(83.9106, 0.0803203, nothing, nothing)\n",
       "  676 => MyBiomialLatticeEquityNodeModel(92.458, 0.00518978, nothing, nothing)\n",
       "  637 => MyBiomialLatticeEquityNodeModel(97.3691, 0.000306126, nothing, nothing)\n",
       "  730 => MyBiomialLatticeEquityNodeModel(65.8246, 0.00173749, nothing, nothing)\n",
       "  523 => MyBiomialLatticeEquityNodeModel(62.0059, 8.83119e-6, nothing, nothing)\n",
       "  802 => MyBiomialLatticeEquityNodeModel(74.4236, 0.0825056, nothing, nothing)\n",
       "  ⋮   => ⋮"
      ]
     },
     "execution_count": 37,
     "metadata": {},
     "output_type": "execute_result"
    }
   ],
   "source": [
    "random_test_model.data"
   ]
  },
  {
   "cell_type": "markdown",
   "id": "c32d5a74-ab92-4c4a-ae22-7b9179d76f3e",
   "metadata": {},
   "source": [
    "### Visualize binomial lattice price simulation\n",
    "An obvious question is: How well does the binomial lattice model simulate the actual share price? Let's visualize the results for our randomly selected firm, over the time interval defined by `start_index` and `stop_index`.\n",
    "\n",
    "> __What are we plotting?__  We'll compute the expected value and the variance of the simulated price as a function of time, i.e., at each level in the tree using the local [`𝔼(...)`](src/Compute.jl) and [`Var(...)` functions](src/Compute.jl) functions. We'll compare these values with the price observed in the market.\n",
    "\n",
    "__Unhide__ the code block below to see how we plotted the model simulated expected value and variance and the observed prices for your randomly selected firm using a binomial lattice model.\n",
    "\n",
    "> __What do we see?__ The dashed line represents the expected share price predicted by the lattice model, while the shaded regions denote levels of uncertainty $\\mu\\pm{z}\\cdot\\sigma$ for $z=$ `1.0, 1.96, 2.576`. The solid red line with circles represents the [observed VWAP price](https://en.wikipedia.org/wiki/Volume-weighted_average_price) for the selected firm and date range.\n",
    "\n",
    "Depending upon the ticker we've selected, the observed price (red line with points) may or may not lie within the $\\pm\\,{z}\\cdot\\sigma$ confidence ranges, where `z = {1, 1.96, 2.576}` are shown in progressively lighter shades of blue. The dashed dark blue line shows the expected value."
   ]
  },
  {
   "cell_type": "code",
   "execution_count": 38,
   "id": "4ee34b98-2524-4b74-820e-da12fb92983e",
   "metadata": {
    "jupyter": {
     "source_hidden": true
    },
    "tags": []
   },
   "outputs": [
    {
     "data": {
      "image/png": "[encoded data removed]"
     },
     "execution_count": 38,
     "metadata": {},
     "output_type": "execute_result"
    }
   ],
   "source": [
    "let \n",
    "\n",
    "    levels = [k for k ∈ 0:(TSIM-1)]\n",
    "    expectation = 𝔼(random_test_model, levels); # compute the expected value\n",
    "    variance = Var(random_test_model, levels); # compute the variance\n",
    "\n",
    "\n",
    "    # initialize -\n",
    "    L68 = expectation[:,2] .- sqrt.(variance[:,2])\n",
    "    U68 = expectation[:,2] .+ sqrt.(variance[:,2])\n",
    "    L95 = expectation[:,2] .- 1.96*sqrt.(variance[:,2])\n",
    "    U95 = expectation[:,2] .+ 1.96*sqrt.(variance[:,2])\n",
    "    L99 = expectation[:,2] .- 2.576*sqrt.(variance[:,2])\n",
    "    U99 = expectation[:,2] .+ 2.576*sqrt.(variance[:,2])\n",
    "\n",
    "    T_range = range(start_index,stop=stop_index-1,step=1) |> collect \n",
    "    T_sim = T_range*Δt .- Δt\n",
    "\n",
    "    plot(T_range, expectation[:,2], fillrange=L68, c=:deepskyblue1, alpha=0.4, label=\"\")\n",
    "    plot!(T_range, expectation[:,2], fillrange=U68, c=:deepskyblue1, alpha=0.4, label=\"\")\n",
    "    plot!(T_range, expectation[:,2], fillrange=L95, c=:deepskyblue1, alpha=0.3, label=\"\")\n",
    "    plot!(T_range, expectation[:,2], fillrange=U95, c=:deepskyblue1, alpha=0.3, label=\"\")\n",
    "    plot!(T_range, expectation[:,2], fillrange=L99, c=:deepskyblue1, alpha=0.2, label=\"\")\n",
    "    plot!(T_range, expectation[:,2], fillrange=U99, c=:deepskyblue1, alpha=0.2, label=\"\")\n",
    "    plot!(T_range, expectation[:,2],c=:blue, lw=3,ls=:dash, label=\"expectation\")\n",
    "    plot!(T_range, random_firm_data[levels .+ start_index, :volume_weighted_average_price],  \n",
    "        lw=4, c=:red, label=\"Firm-$(random_firm_ticker)\", legend = :topleft)\n",
    "    scatter!(T_range, random_firm_data[levels .+ start_index, :volume_weighted_average_price], label=\"\", \n",
    "        msc=:red, mc=:white)\n",
    "\n",
    "    plot!(bg=\"gray95\", background_color_outside=\"white\", framestyle = :box, fg_legend = :transparent);\n",
    "\n",
    "    xlabel!(\"Trading Day Index (AU)\", fontsize=18)\n",
    "    ylabel!(\"Firm-$(random_firm_ticker) VWAP (USD/share)\", fontsize=18)\n",
    "end"
   ]
  },
  {
   "cell_type": "code",
   "execution_count": 39,
   "id": "6ef3cd61",
   "metadata": {},
   "outputs": [],
   "source": [
    "do_I_see_price_simulation_figure = true; # set to true if you see the price simulation figure above, otherwise set to false"
   ]
  },
  {
   "cell_type": "markdown",
   "id": "5f334dc0-c5f9-402c-99c9-973609a7fc94",
   "metadata": {},
   "source": [
    "### Was this a successful simulation?\n",
    "Determining whether a model accurately represents data can be done in various ways, but we will utilize a simple, straightforward functional test. \n",
    "\n",
    "> __Functional test__\n",
    "> \n",
    "> * __Success__: If the simulated price falls within a specified lower bound ($L_{j}$) and upper bound ($U_{j}$) for all times $t_j$ within a given interval ($t_{j}\\in\\mathcal{I}_{k}$), then the model is deemed a `success.`\n",
    "> * __Failure__: However, if the actual price exceeds the given bounds __at any point__, the simulation is considered a `failure.`\n",
    ">\n",
    "> So, did we succeed or fail?\n",
    "\n",
    "We save the result of this functional test in the `was_simulation_successful::Bool` variable. "
   ]
  },
  {
   "cell_type": "code",
   "execution_count": 40,
   "id": "049a1ffc-2955-401b-993d-55714df603c8",
   "metadata": {
    "jupyter": {
     "source_hidden": true
    },
    "tags": []
   },
   "outputs": [],
   "source": [
    "was_simulation_successful = let\n",
    "\n",
    "    # initialize -\n",
    "    was_simulation_successful = nothing;\n",
    "    levels = [k for k ∈ 0:(TSIM-1)]\n",
    "    expectation = 𝔼(random_test_model, levels); # compute the expected value\n",
    "    variance = Var(random_test_model, levels); # compute the variance\n",
    "\n",
    "    z = 2.576 # If you wanted a tighter confidence interval, you could change this value\n",
    "    L = expectation[:,2] .- z*sqrt.(variance[:,2])\n",
    "    U = expectation[:,2] .+ z*sqrt.(variance[:,2])\n",
    "    \n",
    "    # check the bounds: if below L, or above U then simulation failed\n",
    "    was_simulation_successful = true;\n",
    "    for k ∈ 1:TSIM\n",
    "\n",
    "        price_value = random_firm_data[start_index+k-1,:volume_weighted_average_price];\n",
    "        if (price_value < L[k]) || (price_value > U[k])\n",
    "            was_simulation_successful = false;\n",
    "            break;\n",
    "        end\n",
    "    end\n",
    "\n",
    "    was_simulation_successful; # return\n",
    "end;"
   ]
  },
  {
   "cell_type": "code",
   "execution_count": 41,
   "id": "8565dbe9",
   "metadata": {},
   "outputs": [
    {
     "name": "stdout",
     "output_type": "stream",
     "text": [
      "Was the CVS simulation between days (1187 -> 1229) successful? true\n"
     ]
    }
   ],
   "source": [
    "println(\"Was the $(random_firm_ticker) simulation between days ($(start_index) -> $(stop_index)) successful? $(was_simulation_successful)\")"
   ]
  },
  {
   "cell_type": "markdown",
   "id": "2aa6f7f1",
   "metadata": {},
   "source": [
    "___"
   ]
  },
  {
   "cell_type": "markdown",
   "id": "8fde8a0d",
   "metadata": {},
   "source": [
    "## Task 3: Check the Stylized Facts for the Binomial Lattice Model\n",
    "In this task, we will evaluate whether our binomial lattice model can replicate the well-known stylized facts of equity returns: heavy tails, vanishing autocorrelation, and volatility clustering. \n",
    "\n",
    "> __Stylized Facts of Binomial Returns:__ We already know from lecture that the binomial lattice model can replicate the vanishing autocorrelation stylized fact, but __not__ the heavy tails or volatility clustering stylized facts. Let's verify the autocorrelation function for our simulated growth rates to demonstrate this.\n",
    "\n",
    "### Single step growth rates\n",
    "We know (from our analysis of the data) that the one-step growth rates $\\{\\mu_{2},\\mu_{3},\\dots,\\mu_{T}\\}$ are __approximately__ independent and identically distributed (i.i.d.) random variables. Thus, the autocorrelation function for the growth rates should be __approximately__ zero for all lags $\\tau > 1$. The growth rate $\\mu_{j,j-1}$ between two consecutive time periods $j-1$ and $j$ is given by:\n",
    "$$\n",
    "\\boxed{\n",
    "    \\begin{align*}\n",
    "    \\mu_{j,j-1}\n",
    "    & = \\frac{1}{\\Delta t}\\Big[X_j\\ln u + (1-X_j)\\ln d\\Big] \\\\\n",
    "    & = \\frac{1}{\\Delta t}\\Big[\\ln d + X_j\\ln\\!\\Big({u}/{d}\\Big)\\Big]\\quad\\blacksquare\n",
    "    \\end{align*}\n",
    "}\n",
    "$$\n",
    "where $X_j\\sim\\texttt{Bernoulli}(p)$. We'll use this expression to generate a $T-1$ length sequence of single step growth rates $\\{\\mu_{2},\\mu_{3},\\dots,\\mu_{T}\\}$ by simulating $T-1$ independent Bernoulli trials. We'll save the growth rate sequence in the `single_step_simulated_growth_array::Array{Float64,1}` variable."
   ]
  },
  {
   "cell_type": "code",
   "execution_count": 42,
   "id": "eb80e9b4",
   "metadata": {},
   "outputs": [],
   "source": [
    "single_step_simulated_growth_array = let\n",
    "\n",
    "    # initialize -\n",
    "    u = ū # up factor\n",
    "    d = d̄ # down factor\n",
    "    p = p̄ # probability of up movement\n",
    "    T = maximum_number_trading_days; # total number of trading days in the dataset\n",
    "    day = Bernoulli(p); # initialize a Bernoulli random variable\n",
    "    simulated_growth_array = Array{Float64}(undef, T - 1);\n",
    "\n",
    "    # simulate the growth rates\n",
    "    for j ∈ 1:(T - 1)\n",
    "\n",
    "        # everyday is a random Bernoulli trial\n",
    "        Xⱼ = rand(day) == true ? 1 : 0 # did day j go up (1) or down (0)?\n",
    "        simulated_growth_array[j] = (1/Δt)*(log(d) + Xⱼ*log(u/d)) # compute the growth rate\n",
    "    end\n",
    "\n",
    "    simulated_growth_array; # return -\n",
    "end;"
   ]
  },
  {
   "cell_type": "markdown",
   "id": "2e4ff158",
   "metadata": {},
   "source": [
    "So what have we done here? \n",
    "\n",
    "> __Simulation:__ We simulated $T-1$ independent Bernoulli trials, where each trial results in an `up` move with probability $p$ and a `down` move with probability $1-p$. For each trial, we computed the corresponding growth rate $\\mu_{j,j-1}$ using the expression above. The result is a sequence of $T-1$ growth rates stored in the `single_step_simulated_growth_array::Array{Float64,1}` variable.\n",
    "\n",
    "Before we analyze the autocorrelation function for the simulated growth rates, let's compute the expected value and variance of the single-step growth rates using the expressions we derived in class. The expected value and the variance expressions that we derived for the one-step growth rate are given by:\n",
    "$$\n",
    "\\begin{align*}\n",
    "\\mathbb{E}[\\mu_{j,j-1}] & = \\frac{1}{\\Delta t}\\Big[p\\ln u + (1-p)\\ln d\\Big]\\\\\n",
    "\\mathrm{Var}(\\mu_{j,j-1}) & = \\frac{p(1-p)}{\\Delta t^{\\,2}}\\Big[\\ln\\!\\Big(\\frac{u}{d}\\Big)\\Big]^2\n",
    "\\end{align*}\n",
    "$$\n",
    "Let's compare the theoretical and simulated values for the expected value and variance of the single-step growth rate."
   ]
  },
  {
   "cell_type": "code",
   "execution_count": 44,
   "id": "75d58fea",
   "metadata": {},
   "outputs": [
    {
     "name": "stdout",
     "output_type": "stream",
     "text": [
      " ---------------- ------------ ------------- --------------\n",
      " \u001b[1m         Metric \u001b[0m \u001b[1m  Simulated \u001b[0m \u001b[1m Theoretical \u001b[0m \u001b[1m rtol_percent \u001b[0m\n",
      " \u001b[90m         String \u001b[0m \u001b[90m    Float64 \u001b[0m \u001b[90m     Float64 \u001b[0m \u001b[90m      Float64 \u001b[0m\n",
      " ---------------- ------------ ------------- --------------\n",
      "  Expected Value   -0.0107706    -0.0257644        58.1957\n",
      "        Variance      6.71608       6.71556     0.00770105\n",
      " ---------------- ------------ ------------- --------------\n"
     ]
    }
   ],
   "source": [
    "let\n",
    "\n",
    "    # initialize -\n",
    "    df = DataFrame(); # will hold the results for the table.\n",
    "    expected_value_simulated = nothing;\n",
    "    expected_value_theoretical = nothing;\n",
    "    variance_simulated = nothing;\n",
    "    variance_theoretical = nothing;\n",
    "\n",
    "    # TODO: Uncomment the lines below and re-run this cell to compute the expected value and variance for the simulated growth rates\n",
    "    expected_value_simulated = mean(single_step_simulated_growth_array);\n",
    "    expected_value_theoretical = (1/Δt)*(p̄*log(ū) + (1-p̄)*log(d̄))\n",
    "    variance_simulated = var(single_step_simulated_growth_array);\n",
    "    variance_theoretical = (p̄*(1-p̄)/(Δt^2))*(log(ū/d̄))^2\n",
    "\n",
    "    # package the results into a DataFrame, and display the results as a table -\n",
    "    row_df = (\n",
    "        Metric = \"Expected Value\", \n",
    "        Simulated = expected_value_simulated,\n",
    "        Theoretical = expected_value_theoretical,\n",
    "        rtol_percent = 100*abs((expected_value_simulated - expected_value_theoretical)/(expected_value_theoretical))\n",
    "    )\n",
    "    push!(df, row_df)\n",
    "\n",
    "    row_df = (\n",
    "        Metric = \"Variance\", \n",
    "        Simulated = variance_simulated,\n",
    "        Theoretical = variance_theoretical,\n",
    "        rtol_percent = 100*abs((variance_simulated - variance_theoretical)/(variance_theoretical))\n",
    "    )\n",
    "    push!(df, row_df)\n",
    "\n",
    "    # display the table -\n",
    "    pretty_table(df, backend = Val(:text),\n",
    "        tf = tf_compact);  \n",
    "end"
   ]
  },
  {
   "cell_type": "markdown",
   "id": "1441d495",
   "metadata": {},
   "source": [
    "__Results:__ When I ran the code above, my theoretical and simulated values for the variance of the single-step growth rate were close, but the expected values were not as close as I would have expected. Thus, I'm curious about what the single-step growth rate distribution looks like. Let's visualize it.\n",
    "\n",
    "__Unhide__ the code block below to see how we visualized the single-step growth rate sequence from our binomial lattice model. __Note:__ this is a Kernel Density Estimate (KDE) plot, which is a smoothed version of a histogram."
   ]
  },
  {
   "cell_type": "code",
   "execution_count": 45,
   "id": "f33148c0",
   "metadata": {},
   "outputs": [
    {
     "name": "stdout",
     "output_type": "stream",
     "text": [
      "(f₋, f₊) = (0.48626174981923354, 0.5137382501807665)\n"
     ]
    },
    {
     "data": {
      "image/png": "[encoded data removed]"
     },
     "execution_count": 45,
     "metadata": {},
     "output_type": "execute_result"
    }
   ],
   "source": [
    "let\n",
    "    f₋ = findall(x-> x < 0.0, single_step_simulated_growth_array) |> length |> l-> l/(maximum_number_trading_days - 1)\n",
    "    f₊ = findall(x-> x > 0.0, single_step_simulated_growth_array) |> length |> l-> l/(maximum_number_trading_days - 1)\n",
    "    @show f₋, f₊ # fraction: down, up\n",
    "\n",
    "    # initialize - \n",
    "    density(single_step_simulated_growth_array, label=\"\", lw=3, c=:navy)\n",
    "    xlabel!(\"Single-Step Growth Rate (1/years)\", fontsize=18)\n",
    "    ylabel!(\"Density\", fontsize=18)\n",
    "    plot!(bg=\"gray95\", background_color_outside=\"white\", framestyle = :box, fg_legend = :transparent);\n",
    "end"
   ]
  },
  {
   "cell_type": "code",
   "execution_count": 46,
   "id": "dee663e6",
   "metadata": {},
   "outputs": [],
   "source": [
    "do_I_see_single_step_growth_rate_distribution_figure = true; # set to true if you see a distribution of single-step growth rates"
   ]
  },
  {
   "cell_type": "markdown",
   "id": "253c608d",
   "metadata": {},
   "source": [
    "### Discussion Questions\n",
    "1. Wow, this plot initially seems strange! Why do two peaks make sense given the binomial lattice model?\n",
    "2. Why is the variance of the single-step growth rate distribution closer to the theoretical value than the expected value?\n",
    "3. Suppose we wanted to make this more realistic. What changes would you make to a lattice model to make the single-step growth rate distribution more realistic?"
   ]
  },
  {
   "cell_type": "markdown",
   "id": "5e51b272",
   "metadata": {},
   "source": [
    "# Fill in your answers here.\n",
    "1. In a binomial lattice, each step has only two possible outcomes: up or down. So the single-step growth rate, takes only two values and therefore two peaks in the histogram.\n",
    "2. The variance depends mainly on the fixed gap between the respective up and down single-step growth rates, so it's stable and matches the theory well. The mean is more sensitive\n",
    "    to small samplings errors or parameter mismatches, so it deviates more.\n",
    "3. To make it more realistic:\n",
    "    - use a trinomial (up, same, or down) or multinomial (more outcomes) lattice.\n",
    "    - add randomness to u, d, or draw returns from a continuous distribution\n",
    "    - include stochastic volatility or jumps for fat tails and volatility clustering"
   ]
  },
  {
   "cell_type": "code",
   "execution_count": 49,
   "id": "fc1dce3a",
   "metadata": {},
   "outputs": [],
   "source": [
    "did_I_answer_discussion_questions_1 = true; # set to true if you answered question 1"
   ]
  },
  {
   "cell_type": "markdown",
   "id": "d7679a8a",
   "metadata": {},
   "source": [
    "### Autocorrelation Function\n",
    "Ok, so we have a sequence of single-step growth rates generated by our binomial lattice model. Let's check if this single-step growth rate sequence has a vanishing autocorrelation function.\n",
    "\n",
    "> __Why do we care about the autocorrelation function?__ If there is correlation between growth rates at different times, we could predict future growth rates based on past growth rates. This would imply that the market is not a random walk, which contradicts the efficient market hypothesis. However, if the autocorrelation function is approximately zero for all lags $\\tau > 1$, then the growth rates are independent, and the market behaves like a random walk.\n",
    "\n",
    "__Unhide__ the code block below to see how we computed and visualized the autocorrelation function for the single-step growth rate sequence generated by our binomial lattice model.\n",
    "\n",
    "If the autocorrelation (red line) is approximately zero (between the 99.9\\% confidence interval) for all lags $\\tau > 1$, then the single-step growth rates are independent, and the binomial lattice model replicates the (approximately) vanishing autocorrelation stylized fact of equity returns."
   ]
  },
  {
   "cell_type": "code",
   "execution_count": 50,
   "id": "0d0a4d16",
   "metadata": {},
   "outputs": [
    {
     "data": {
      "image/png": "[encoded data removed]"
     },
     "execution_count": 50,
     "metadata": {},
     "output_type": "execute_result"
    }
   ],
   "source": [
    "let\n",
    "\n",
    "    # generate a random index -\n",
    "    number_of_steps = maximum_number_trading_days - 1;\n",
    "    max_number_of_steps_x = 50 # how many lags to visualize\n",
    "    X = single_step_simulated_growth_array;\n",
    "    \n",
    "    plot(autocor(X, (0:(number_of_steps - 1) |> collect)), label=\"Observed $(random_firm_ticker)\", lw=2, c=:red, \n",
    "        bg=\"gray95\", background_color_outside=\"white\", framestyle = :box, fg_legend = :transparent, \n",
    "        linetype=:steppost, xlims=(0,max_number_of_steps_x))\n",
    "\n",
    "    LINE = (3.09/sqrt(number_of_steps))*ones(number_of_steps-1);\n",
    "    plot!(LINE, label=\"99.9% confidence\", lw=2, c=:black, ls=:dash)\n",
    "    plot!(-LINE, label=\"\", lw=2, c=:black, ls=:dash)\n",
    "    xlabel!(\"Lag (trading day)\", fontsize=18)\n",
    "    ylabel!(\"Autocorrelation Growth Rate\", fontsize=18)\n",
    "end"
   ]
  },
  {
   "cell_type": "markdown",
   "id": "6d23cd47",
   "metadata": {},
   "source": [
    "__Reminder__: Ignore the first lag, i.e., $\\tau = 0$, since the autocorrelation at lag zero is always one (by definition)."
   ]
  },
  {
   "cell_type": "code",
   "execution_count": 51,
   "id": "d7e63513",
   "metadata": {},
   "outputs": [],
   "source": [
    "does_my_autocorrelation_function_vanish = true; # set to true if the autocorrelation function vanishes for all lags > 1"
   ]
  },
  {
   "cell_type": "markdown",
   "id": "be8725fd",
   "metadata": {},
   "source": [
    "### Multi-step Binomial Growth Rate Distribution\n",
    "The single-step growth rate distribution is a discrete random variable that can take on only two values, corresponding to an `up` move or a `down` move. However, we made a claim in the lecture notes that the multiple step growth rate distribution approaches a normal distribution as the number of steps increases. Let's investigate this claim.\n",
    "\n",
    "> __Claim:__ The multi-step growth rate distribution $\\mu_{T}$ is a linear transformation of a binomially distributed variable $k$. As $T \\to \\infty$, the distribution of $\\mu_{T}$ converges to a normal distribution by the Central Limit Theorem, which has lighter tails than the empirical return distributions observed in financial markets. Let's check this claim.\n",
    "\n",
    "Suppose we consider multiple step growth rates, i.e., intervals that span $t=0\\rightarrow{T}$ in timesteps of length $\\Delta{t}$, where $T=i\\Delta{t}$ for $i=1,2,\\dots$. Then, the multi-step growth rate $\\mu_{T}$ expression for a binomial process is given by (taken from lecture notes): \n",
    "$$\n",
    "\\boxed{\n",
    "\\mu_{T} = \\left(\\frac{1}{\\Delta{t}}\\right)\\;\\Bigl[k\\ln\\left(\\frac{u}{d}\\right)+i\\ln(d)\\Bigr] \\quad\\text{where}\\;k\\sim \\texttt{Binomial}(i,p)\n",
    "}\n",
    "$$\n",
    "\n",
    "Let's simulate the multi-step growth rate distribution for our randomly selected firm. \n",
    "\n",
    "__Unhide__ the code block below to see how we simulated the multi-step growth rate distribution. We simulate $i$ steps, `number_of_trials` times. In other words, we are looking at `number_of_trials` multi-step growth rates, each computed over `i` steps.\n",
    "\n",
    "We'll save the data in the `multiple_step_simulated_growth_array::Array{Float64,1}` variable."
   ]
  },
  {
   "cell_type": "code",
   "execution_count": 62,
   "id": "ee397ffb",
   "metadata": {},
   "outputs": [],
   "source": [
    "multiple_step_simulated_growth_array = let\n",
    "\n",
    "    # initialize -\n",
    "    u = ū\n",
    "    d = d̄\n",
    "    p = p̄\n",
    "    i = 300; # number of days we are simulating\n",
    "    number_of_trials = 1000; # number of trials to simulate (number of i length sequences)\n",
    "    day = Binomial(i, p); # initialize a Binomial random variable\n",
    "    simulated_growth_array = Array{Float64}(undef, number_of_trials);\n",
    "    \n",
    "    # main loop: simulate the growth rates\n",
    "    for j ∈ 1:number_of_trials\n",
    "        \n",
    "        # everyday is a random Bernoulli trial\n",
    "        Xⱼ = rand(day)\n",
    "        simulated_growth_array[j] = (1/(Δt))*(rand(day)*log(u/d)+i*log(d))\n",
    "    end\n",
    "\n",
    "    simulated_growth_array; # return -\n",
    "end;"
   ]
  },
  {
   "cell_type": "markdown",
   "id": "60ffc2ac",
   "metadata": {},
   "source": [
    "__Unhide__ the code block below to see how we visualized the multi-step growth rate sequence from our binomial lattice model.\n",
    "\n",
    "So what do we see? The blue line is a kernel density estimate (KDE) of the multi-step growth rate distribution generated by our binomial lattice model. The red line is a maximum likelihood estimate (MLE) fit of a normal distribution to the multi-step growth rate distribution.\n",
    "\n",
    "Is the blue line close to the red line? If so, this supports our claim that the multi-step growth rate distribution approaches a normal distribution as the number of steps increases."
   ]
  },
  {
   "cell_type": "code",
   "execution_count": 63,
   "id": "c3d51563",
   "metadata": {},
   "outputs": [
    {
     "data": {
      "image/png": "[encoded data removed]"
     },
     "execution_count": 63,
     "metadata": {},
     "output_type": "execute_result"
    }
   ],
   "source": [
    "let\n",
    "    d = fit_mle(Normal, multiple_step_simulated_growth_array);\n",
    "    plot(d, c=:red, label=\"MLE Normal Fit\", lw=3);\n",
    "    density!(multiple_step_simulated_growth_array, c=:blue, label=\"KDE Fit\", lw=3)\n",
    "    plot!(bg=\"gray95\", background_color_outside=\"white\", framestyle = :box, fg_legend = :transparent);\n",
    "    xlabel!(\"Multiple-Step Growth Rate (1/years)\", fontsize=18)\n",
    "    ylabel!(\"Density (AU)\", fontsize=18)\n",
    "end"
   ]
  },
  {
   "cell_type": "markdown",
   "id": "c77cd135",
   "metadata": {},
   "source": [
    "### Discussion Questions\n",
    "1. As you change the number of steps (the `i` variable in the code block above), what do you observe? Do we approach a normal distribution (visually) as the number of steps increases?"
   ]
  },
  {
   "cell_type": "markdown",
   "id": "c10608e7",
   "metadata": {},
   "source": [
    "# Fill in your answer here.\n",
    "As the number of steps increases, the distribution of total (multi-step) returns becomes smoother and starts to look like a normal bell-shaped curve. This happens because each step's up/down move adds up, and by the Central Limit Thereom, the sum of many small independent steps tends towards a normal distribution. "
   ]
  },
  {
   "cell_type": "code",
   "execution_count": 67,
   "id": "4ee36c4b",
   "metadata": {},
   "outputs": [],
   "source": [
    "did_I_answer_discussion_question_2 = true; # true if you answered question 2"
   ]
  },
  {
   "cell_type": "markdown",
   "id": "be6f1020",
   "metadata": {},
   "source": [
    "### Anderson Darling Test\n",
    "The eye test is one thing, but let's get a little more rigorous. Let's use the Anderson-Darling test to quantify how well the multi-step growth rate distribution fits a normal distribution.\n",
    "\n",
    "> __Null hypothesis:__ The Anderson–Darling test examines the null hypothesis that the data in vector $x$ come from the distribution $d$ against the alternative hypothesis that the sample is not drawn from $d$. This test reports a p-value, the probability that, assuming the null hypothesis is true (your data really are i.i.d. from $d$), the AD test statistic would be at least as extreme as the one computed from your data. \n",
    "\n",
    "Let's run the test."
   ]
  },
  {
   "cell_type": "code",
   "execution_count": 64,
   "id": "e7164a3a",
   "metadata": {},
   "outputs": [
    {
     "data": {
      "text/plain": [
       "One sample Anderson-Darling test\n",
       "--------------------------------\n",
       "Population details:\n",
       "    parameter of interest:   not implemented yet\n",
       "    value under h_0:         NaN\n",
       "    point estimate:          NaN\n",
       "\n",
       "Test summary:\n",
       "    outcome with 95% confidence: fail to reject h_0\n",
       "    one-sided p-value:           0.3635\n",
       "\n",
       "Details:\n",
       "    number of observations:   1000\n",
       "    sample mean:              -10.06110772827975\n",
       "    sample SD:                46.220285612289096\n",
       "    A² statistic:             0.9881635179588529\n"
      ]
     },
     "execution_count": 64,
     "metadata": {},
     "output_type": "execute_result"
    }
   ],
   "source": [
    "let\n",
    "\n",
    "    # initialize -\n",
    "    μ = multiple_step_simulated_growth_array; # grab the multi-step growth rate array\n",
    "    d = fit_mle(Normal, μ);   # fit the distribution using maximum likelihood estimation\n",
    "\n",
    "    # TODO: Uncomment the line below to perform the Anderson-Darling test\n",
    "    # TODO: reject the null hypothesis => NOT from a normal distribution\n",
    "    # TODO: A^2 big => data CDF does not fit theoretical CDF well\n",
    "    ad_test_normal = HypothesisTests.OneSampleADTest(μ, d);\n",
    "end"
   ]
  },
  {
   "cell_type": "markdown",
   "id": "a5b05622",
   "metadata": {},
   "source": [
    "So what do we see?"
   ]
  },
  {
   "cell_type": "code",
   "execution_count": 66,
   "id": "337bede7",
   "metadata": {},
   "outputs": [],
   "source": [
    "does_anderson_darling_test_suggest_normality = true; # set to true if we fail to reject the null hypothesis, false otherwise"
   ]
  },
  {
   "cell_type": "markdown",
   "id": "7d3f1e23",
   "metadata": {},
   "source": [
    "## Tests\n",
    "In the code block below, we run a few tests to check if your notebook is set up and running correctly. If you see any errors, please check your code and fix the issues."
   ]
  },
  {
   "cell_type": "code",
   "execution_count": 68,
   "id": "bc4aeed6",
   "metadata": {},
   "outputs": [
    {
     "name": "stdout",
     "output_type": "stream",
     "text": [
      "\u001b[0m\u001b[1mTest Summary:             | \u001b[22m\u001b[32m\u001b[1mPass  \u001b[22m\u001b[39m\u001b[36m\u001b[1mTotal  \u001b[22m\u001b[39m\u001b[0m\u001b[1mTime\u001b[22m\n",
      "PS2 CHEME 5660 Test Suite | \u001b[32m  18  \u001b[39m\u001b[36m   18  \u001b[39m\u001b[0m0.0s\n",
      "  Growth Rate Calculation | \u001b[32m   4  \u001b[39m\u001b[36m    4  \u001b[39m\u001b[0m0.0s\n",
      "  Random Test Model       | \u001b[32m   4  \u001b[39m\u001b[36m    4  \u001b[39m\u001b[0m0.0s\n",
      "  Figures, Tables and DQs | \u001b[32m   6  \u001b[39m\u001b[36m    6  \u001b[39m\u001b[0m0.0s\n",
      "  Stylized Facts          | \u001b[32m   4  \u001b[39m\u001b[36m    4  \u001b[39m\u001b[0m0.0s\n"
     ]
    },
    {
     "data": {
      "text/plain": [
       "Test.DefaultTestSet(\"PS2 CHEME 5660 Test Suite\", Any[Test.DefaultTestSet(\"Growth Rate Calculation\", Any[], 4, false, true, true, 1.759614636035979e9, 1.759614636036029e9), Test.DefaultTestSet(\"Random Test Model\", Any[], 4, false, true, true, 1.759614636036042e9, 1.759614636036063e9), Test.DefaultTestSet(\"Figures, Tables and DQs\", Any[], 6, false, true, true, 1.759614636036074e9, 1.759614636036091e9), Test.DefaultTestSet(\"Stylized Facts\", Any[], 4, false, true, true, 1.759614636036101e9, 1.759614636036113e9)], 0, false, true, true, 1.759614636035937e9, 1.759614636036115e9)"
      ]
     },
     "execution_count": 68,
     "metadata": {},
     "output_type": "execute_result"
    }
   ],
   "source": [
    "@testset verbose=true \"PS2 CHEME 5660 Test Suite\" begin\n",
    "\n",
    "    # simple tests to make sure you completed the assignment.\n",
    "    \n",
    "    # growth rate tests -\n",
    "    @testset verbose = true \"Growth Rate Calculation\" begin\n",
    "        @test isnothing(log_growth_array) == false;\n",
    "        @test isempty(log_growth_array) == false;\n",
    "        @test length(log_growth_array) == (maximum_number_trading_days - 1)\n",
    "        @test is_observed_growth_rate_distribution_normal  == false\n",
    "    end\n",
    "\n",
    "    # model tests -\n",
    "    @testset verbose = true \"Random Test Model\" begin\n",
    "        @test isnothing(random_test_model) == false;\n",
    "        @test isempty(random_test_model.data) == false;\n",
    "        @test isempty(random_test_model.connectivity) == false\n",
    "        @test isempty(random_test_model.levels) == false;\n",
    "    end\n",
    "    \n",
    "    # figure tests -\n",
    "    @testset verbose = true \"Figures, Tables and DQs\" begin\n",
    "        @test do_I_see_price_simulation_figure == true;\n",
    "        @test do_I_see_single_step_growth_rate_distribution_figure == true\n",
    "        @test did_I_answer_discussion_questions_1 == true\n",
    "        @test did_I_answer_discussion_question_2  == true\n",
    "        @test isnothing(was_simulation_successful) == false;\n",
    "        @test was_simulation_successful == true || was_simulation_successful == false;\n",
    "    end\n",
    "\n",
    "    # stylized facts -\n",
    "    @testset verbose = true \"Stylized Facts\" begin\n",
    "        @test isnothing(does_my_autocorrelation_function_vanish) == false\n",
    "        @test does_my_autocorrelation_function_vanish == true\n",
    "        @test isnothing(does_anderson_darling_test_suggest_normality) == false\n",
    "        @test does_anderson_darling_test_suggest_normality == true\n",
    "    end\n",
    "end"
   ]
  },
  {
   "cell_type": "markdown",
   "id": "ab93ec7c",
   "metadata": {},
   "source": [
    "___"
   ]
  },
  {
   "cell_type": "markdown",
   "id": "15cc66d3-ddff-4215-8872-a4558041bdd0",
   "metadata": {},
   "source": [
    "## Disclaimer and Risks\n",
    "__This content is offered solely for training and informational purposes__. No offer or solicitation to buy or sell securities or derivative products, or any investment or trading advice or strategy, is made, given, or endorsed by the teaching team. \n",
    "\n",
    "__Trading involves risk__. Carefully review your financial situation before investing in securities, futures contracts, options, or commodity interests. Past performance, whether actual or indicated by historical tests of strategies, is no guarantee of future performance or success. Trading is generally inappropriate for someone with limited resources, investment or trading experience, or a low-risk tolerance. Only risk capital that is not required for living expenses should be used.\n",
    "\n",
    "__You are fully responsible for any investment or trading decisions you make__. Such decisions should be based solely on evaluating your financial circumstances, investment or trading objectives, risk tolerance, and liquidity needs."
   ]
  }
 ],
 "metadata": {
  "kernelspec": {
   "display_name": "Julia 1.8.3",
   "language": "julia",
   "name": "julia-1.8"
  },
  "language_info": {
   "file_extension": ".jl",
   "mimetype": "application/julia",
   "name": "julia",
   "version": "1.11.6"
  }
 },
 "nbformat": 4,
 "nbformat_minor": 5
}
